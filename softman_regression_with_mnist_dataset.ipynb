{
  "nbformat": 4,
  "nbformat_minor": 0,
  "metadata": {
    "colab": {
      "private_outputs": true,
      "provenance": [],
      "machine_shape": "hm",
      "authorship_tag": "ABX9TyPpcRWtToNCFxM8d8bCvEmf",
      "include_colab_link": true
    },
    "kernelspec": {
      "name": "python3",
      "display_name": "Python 3"
    },
    "language_info": {
      "name": "python"
    }
  },
  "cells": [
    {
      "cell_type": "markdown",
      "metadata": {
        "id": "view-in-github",
        "colab_type": "text"
      },
      "source": [
        "<a href=\"https://colab.research.google.com/github/sam757575/collab/blob/main/softman_regression_with_mnist_dataset.ipynb\" target=\"_parent\"><img src=\"https://colab.research.google.com/assets/colab-badge.svg\" alt=\"Open In Colab\"/></a>"
      ]
    },
    {
      "cell_type": "code",
      "execution_count": null,
      "metadata": {
        "id": "K7RxZpWRkZKX"
      },
      "outputs": [],
      "source": [
        "# imports\n",
        "\n",
        "import numpy as np\n",
        "from pprint import pprint\n",
        "\n",
        "np.random.seed(42)\n",
        "\n",
        "from sklearn.datasets import fetch_openml\n",
        "\n",
        "from sklearn.preprocessing import StandardScaler\n",
        "\n",
        "from sklearn.pipeline import Pipeline\n",
        "\n",
        "from sklearn.linear_model import LogisticRegression, LogisticRegressionCV\n",
        "\n",
        "from sklearn.metrics import ConfusionMatrixDisplay, f1_score, make_scorer, classification_report\n",
        "\n",
        "%matplotlib inline\n",
        "import matplotlib as mpl\n",
        "import matplotlib.pyplot as plt\n",
        "import seaborn as sns\n",
        "\n",
        "mpl.rc('axes', labelsize=14)\n",
        "mpl.rc('xtick', labelsize=12)\n",
        "mpl.rc('ytick', labelsize=12)\n",
        "mpl.rc('figure', figsize=(8, 6))"
      ]
    },
    {
      "cell_type": "code",
      "source": [
        "X, y = fetch_openml('mnist_784', version=1, return_X_y=True)"
      ],
      "metadata": {
        "id": "elzkusF_mJWW"
      },
      "execution_count": null,
      "outputs": []
    },
    {
      "cell_type": "code",
      "source": [
        "# split the data using index\n",
        "X=X.to_numpy()\n",
        "y=y.to_numpy()\n",
        "X_train, X_test, y_train, y_test = X[:60000], X[60000:], y[:60000], y[60000:]"
      ],
      "metadata": {
        "id": "Ez5tP8LKmPPk"
      },
      "execution_count": null,
      "outputs": []
    },
    {
      "cell_type": "code",
      "source": [
        "pipe = Pipeline(\n",
        "    steps=[('scaler', StandardScaler()),\n",
        "           ('logreg', LogisticRegression(multi_class='multinomial', solver='sag'))]\n",
        ")"
      ],
      "metadata": {
        "id": "-aQOZZ1dmTdF"
      },
      "execution_count": null,
      "outputs": []
    },
    {
      "cell_type": "code",
      "source": [
        "pipe.fit(X_train, y_train)"
      ],
      "metadata": {
        "id": "6KALOrYQnMNH"
      },
      "execution_count": null,
      "outputs": []
    },
    {
      "cell_type": "code",
      "source": [
        "pipe[-1].__dict__"
      ],
      "metadata": {
        "id": "evTete8PnOsF"
      },
      "execution_count": null,
      "outputs": []
    },
    {
      "cell_type": "code",
      "source": [
        "pipe[-1].coef_.shape"
      ],
      "metadata": {
        "id": "U34wZN3Zo_p6"
      },
      "execution_count": null,
      "outputs": []
    },
    {
      "cell_type": "code",
      "source": [
        "pipe[-1].intercept_.shape"
      ],
      "metadata": {
        "id": "sdS-kIu-pUA9"
      },
      "execution_count": null,
      "outputs": []
    },
    {
      "cell_type": "code",
      "source": [
        "# classification_report\n",
        "y_pred = pipe.predict(X_test)\n",
        "print(classification_report(y_test, y_pred))"
      ],
      "metadata": {
        "id": "aEYCUomPpVwF"
      },
      "execution_count": null,
      "outputs": []
    },
    {
      "cell_type": "code",
      "source": [
        "# f1 score\n",
        "f1_score(y_test, y_pred, average='macro')"
      ],
      "metadata": {
        "id": "-7t9dVuJpbuV"
      },
      "execution_count": null,
      "outputs": []
    },
    {
      "cell_type": "code",
      "source": [
        "ConfusionMatrixDisplay.from_estimator(pipe, X_test, y_test)\n",
        "plt.show()"
      ],
      "metadata": {
        "id": "gCdpO66epfCF"
      },
      "execution_count": null,
      "outputs": []
    },
    {
      "cell_type": "markdown",
      "source": [
        "## Using LogisticRegressionCV"
      ],
      "metadata": {
        "id": "VBfAfoZtp90B"
      }
    },
    {
      "cell_type": "code",
      "source": [
        "from sklearn.metrics import make_scorer, f1_score\n",
        "\n",
        "scorer = make_scorer(f1_score, average='micro')\n",
        "pipe = Pipeline(\n",
        "    steps=[('scaler', StandardScaler()),\n",
        "           ('logreg', LogisticRegressionCV(multi_class='multinomial', solver='sag', cv=5, scoring=scorer, max_iter=100, random_state=1729))]\n",
        ")\n",
        "pipe.fit(X_train, y_train)"
      ],
      "metadata": {
        "id": "LisN-EcjpkQ9"
      },
      "execution_count": null,
      "outputs": []
    },
    {
      "cell_type": "code",
      "source": [
        "pipe[-1].__dict__"
      ],
      "metadata": {
        "id": "xXHYh0anqyNv"
      },
      "execution_count": null,
      "outputs": []
    },
    {
      "cell_type": "code",
      "source": [],
      "metadata": {
        "id": "Wd4GrlpCq5zl"
      },
      "execution_count": null,
      "outputs": []
    }
  ]
}