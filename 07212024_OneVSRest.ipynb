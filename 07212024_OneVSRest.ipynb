{
  "nbformat": 4,
  "nbformat_minor": 0,
  "metadata": {
    "colab": {
      "private_outputs": true,
      "provenance": [],
      "authorship_tag": "ABX9TyMADnHIPnVmpCY4OICPGX7A",
      "include_colab_link": true
    },
    "kernelspec": {
      "name": "python3",
      "display_name": "Python 3"
    },
    "language_info": {
      "name": "python"
    }
  },
  "cells": [
    {
      "cell_type": "markdown",
      "metadata": {
        "id": "view-in-github",
        "colab_type": "text"
      },
      "source": [
        "<a href=\"https://colab.research.google.com/github/sam757575/collab/blob/main/07212024_OneVSRest.ipynb\" target=\"_parent\"><img src=\"https://colab.research.google.com/assets/colab-badge.svg\" alt=\"Open In Colab\"/></a>"
      ]
    },
    {
      "cell_type": "code",
      "source": [
        "import pandas as pd\n",
        "import numpy as np\n",
        "import matplotlib.pyplot as plt\n",
        "import seaborn as sns"
      ],
      "metadata": {
        "id": "tsiknP8xhK-j"
      },
      "execution_count": null,
      "outputs": []
    },
    {
      "cell_type": "code",
      "execution_count": null,
      "metadata": {
        "id": "m5NWDZL1gk0n"
      },
      "outputs": [],
      "source": [
        "RANDOM_STATE=42"
      ]
    },
    {
      "cell_type": "code",
      "source": [
        "# import multiclass classification dataset\n",
        "\n",
        "from sklearn.datasets import load_iris\n",
        "iris = load_iris()\n",
        "\n",
        "df = pd.DataFrame(iris.data, columns=iris.feature_names)\n",
        "df['target'] = iris.target\n",
        "df.head()"
      ],
      "metadata": {
        "id": "dlMqLNcIgwfO"
      },
      "execution_count": null,
      "outputs": []
    },
    {
      "cell_type": "code",
      "source": [
        "print(iris.DESCR)"
      ],
      "metadata": {
        "id": "U-aXP_7Og__o"
      },
      "execution_count": null,
      "outputs": []
    },
    {
      "cell_type": "code",
      "source": [
        "# import one vs rest classifier\n",
        "from sklearn.multiclass import OneVsRestClassifier\n",
        "from sklearn.linear_model import LogisticRegression\n",
        "\n",
        "X = df.drop('target', axis=1)\n",
        "y = df['target']"
      ],
      "metadata": {
        "id": "ske38_pChSBr"
      },
      "execution_count": null,
      "outputs": []
    },
    {
      "cell_type": "code",
      "source": [
        "from sklearn.model_selection import train_test_split\n",
        "X_train, X_test, y_train, y_test = train_test_split(X, y, test_size=0.3, random_state=RANDOM_STATE)"
      ],
      "metadata": {
        "id": "HH1LJz80hobe"
      },
      "execution_count": null,
      "outputs": []
    },
    {
      "cell_type": "code",
      "source": [
        "ovr_clf = OneVsRestClassifier(LogisticRegression(random_state=RANDOM_STATE))\n",
        "ovr_clf.fit(X_train, y_train)\n",
        "ovr_clf.score(X_test, y_test)"
      ],
      "metadata": {
        "id": "dWHc44J6h2v3"
      },
      "execution_count": null,
      "outputs": []
    },
    {
      "cell_type": "code",
      "source": [
        "# TOTRY\n",
        "# from sklearn.model_selection import RandomizedSearchCV\n",
        "\n",
        "# random_search_ovr_clf = RandomizedSearchCV(ovr_clf, param_distributions={\n",
        "#     'verbose': [0, 1],\n",
        "#     'n_jobs': [-1, 1]\n",
        "# }, n_iter=10, cv=5, random_state=RANDOM_STATE)\n",
        "# random_search_ovr_clf.fit(X_train, y_train)\n",
        "# random_search_ovr_clf.score(X_test, y_test)"
      ],
      "metadata": {
        "id": "8jeW_4luh8B2"
      },
      "execution_count": null,
      "outputs": []
    },
    {
      "cell_type": "code",
      "source": [],
      "metadata": {
        "id": "Unbgc1tjjaKF"
      },
      "execution_count": null,
      "outputs": []
    }
  ]
}