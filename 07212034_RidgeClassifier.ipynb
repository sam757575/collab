{
  "nbformat": 4,
  "nbformat_minor": 0,
  "metadata": {
    "colab": {
      "private_outputs": true,
      "provenance": [],
      "machine_shape": "hm",
      "cell_execution_strategy": "setup",
      "authorship_tag": "ABX9TyMsLZFxjK4Q7tkSt4Glt+OC",
      "include_colab_link": true
    },
    "kernelspec": {
      "name": "python3",
      "display_name": "Python 3"
    },
    "language_info": {
      "name": "python"
    }
  },
  "cells": [
    {
      "cell_type": "markdown",
      "metadata": {
        "id": "view-in-github",
        "colab_type": "text"
      },
      "source": [
        "<a href=\"https://colab.research.google.com/github/sam757575/collab/blob/main/07212034_RidgeClassifier.ipynb\" target=\"_parent\"><img src=\"https://colab.research.google.com/assets/colab-badge.svg\" alt=\"Open In Colab\"/></a>"
      ]
    },
    {
      "cell_type": "code",
      "source": [
        "RANDOM_STATE = 42"
      ],
      "metadata": {
        "id": "a4N6kWMsgCxR"
      },
      "execution_count": null,
      "outputs": []
    },
    {
      "cell_type": "code",
      "execution_count": null,
      "metadata": {
        "id": "nDAXvnj5cnUr"
      },
      "outputs": [],
      "source": [
        "from sklearn.linear_model import Perceptron\n",
        "\n",
        "#import cancer dataset\n",
        "import pandas as pd\n",
        "import numpy as np\n",
        "\n",
        "from sklearn.datasets import load_breast_cancer\n",
        "\n",
        "cancer = load_breast_cancer()"
      ]
    },
    {
      "cell_type": "code",
      "source": [
        "cancer.data.shape"
      ],
      "metadata": {
        "id": "WNlGs57-epZ_"
      },
      "execution_count": null,
      "outputs": []
    },
    {
      "cell_type": "code",
      "source": [
        "from sklearn.model_selection import train_test_split\n",
        "\n",
        "X_train, X_test, y_train, y_test = train_test_split(cancer.data, cancer.target, test_size=0.3, random_state=42)\n",
        "\n",
        "# import RidgeClassifier\n",
        "\n",
        "from sklearn.linear_model import RidgeClassifier\n",
        "\n",
        "ridge_clf = RidgeClassifier(random_state=RANDOM_STATE)\n",
        "ridge_clf.fit(X_train, y_train)"
      ],
      "metadata": {
        "id": "wfFqNk1KdMph"
      },
      "execution_count": null,
      "outputs": []
    },
    {
      "cell_type": "code",
      "source": [
        "ridge_clf.score(X_test, y_test)"
      ],
      "metadata": {
        "id": "vNcfnVYVdheb"
      },
      "execution_count": null,
      "outputs": []
    },
    {
      "cell_type": "code",
      "source": [
        "ridge_clf.score(X_train, y_train)"
      ],
      "metadata": {
        "id": "ALBzUHVxdjzY"
      },
      "execution_count": null,
      "outputs": []
    },
    {
      "cell_type": "code",
      "source": [
        "?RidgeClassifier"
      ],
      "metadata": {
        "id": "blrlVHjvdpK3"
      },
      "execution_count": null,
      "outputs": []
    },
    {
      "cell_type": "code",
      "source": [
        "# import RandomisedSearch CV\n",
        "\n",
        "from sklearn.model_selection import RandomizedSearchCV\n",
        "\n",
        "radomized_ridge_clf = RandomizedSearchCV(ridge_clf, param_distributions={\n",
        "    'alpha': [0.0001, 0.001, 0.01, 0.1, 1, 10, 100],\n",
        "    'solver': ['auto', 'svd', 'cholesky', 'lsqr', 'sparse_cg','saga'],\n",
        "    'tol': [0.0001, 0.001, 0.01, 0.1, 1, 10, 100],\n",
        "    'fit_intercept': [True, False],\n",
        "    'random_state': [RANDOM_STATE]\n",
        "},random_state=RANDOM_STATE)\n",
        "\n",
        "radomized_ridge_clf.fit(X_train, y_train)"
      ],
      "metadata": {
        "id": "BpcRBsUddvLw"
      },
      "execution_count": null,
      "outputs": []
    },
    {
      "cell_type": "code",
      "source": [
        "radomized_ridge_clf.best_params_"
      ],
      "metadata": {
        "id": "agdOYswTeYHY"
      },
      "execution_count": null,
      "outputs": []
    },
    {
      "cell_type": "code",
      "source": [
        "radomized_ridge_clf.score(X_test, y_test)"
      ],
      "metadata": {
        "id": "rQ7rPQVcf2eg"
      },
      "execution_count": null,
      "outputs": []
    },
    {
      "cell_type": "code",
      "source": [],
      "metadata": {
        "id": "y6t6RNjuf8M4"
      },
      "execution_count": null,
      "outputs": []
    }
  ]
}