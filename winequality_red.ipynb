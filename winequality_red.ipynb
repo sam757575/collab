{
  "nbformat": 4,
  "nbformat_minor": 0,
  "metadata": {
    "colab": {
      "private_outputs": true,
      "provenance": [],
      "machine_shape": "hm",
      "authorship_tag": "ABX9TyMF6YyeTK7AWOIVzj6dMY/m",
      "include_colab_link": true
    },
    "kernelspec": {
      "name": "python3",
      "display_name": "Python 3"
    },
    "language_info": {
      "name": "python"
    }
  },
  "cells": [
    {
      "cell_type": "markdown",
      "metadata": {
        "id": "view-in-github",
        "colab_type": "text"
      },
      "source": [
        "<a href=\"https://colab.research.google.com/github/sam757575/collab/blob/main/winequality_red.ipynb\" target=\"_parent\"><img src=\"https://colab.research.google.com/assets/colab-badge.svg\" alt=\"Open In Colab\"/></a>"
      ]
    },
    {
      "cell_type": "code",
      "execution_count": null,
      "metadata": {
        "id": "TRbiSjmboylJ"
      },
      "outputs": [],
      "source": [
        "import pandas as pd\n",
        "\n",
        "data_url = 'https://archive.ics.uci.edu/ml/machine-learning-databases/wine-quality/winequality-red.csv'\n",
        "df = pd.read_csv(data_url, sep=';')\n",
        "df.head()"
      ]
    },
    {
      "cell_type": "code",
      "source": [
        "feature_list = df.columns[:-1].values\n",
        "label = [df.columns[-1]]\n",
        "\n",
        "print('Feature list: ', feature_list, '\\nLabels: ', label)"
      ],
      "metadata": {
        "id": "OLb_5McWpw4u"
      },
      "execution_count": null,
      "outputs": []
    },
    {
      "cell_type": "code",
      "source": [
        "df.info()"
      ],
      "metadata": {
        "id": "CkjtRmjyqReo"
      },
      "execution_count": null,
      "outputs": []
    },
    {
      "cell_type": "code",
      "source": [
        "df.describe()"
      ],
      "metadata": {
        "id": "aZEbxR15rAdx"
      },
      "execution_count": null,
      "outputs": []
    },
    {
      "cell_type": "code",
      "source": [
        "df['quality'].value_counts()"
      ],
      "metadata": {
        "id": "BfDqi64mrL6Q"
      },
      "execution_count": null,
      "outputs": []
    },
    {
      "cell_type": "code",
      "source": [
        "import seaborn as sns\n",
        "import matplotlib.pyplot as plt\n",
        "\n",
        "sns.set()\n",
        "df.quality.hist()\n",
        "plt.xlabel('Quality')\n",
        "plt.ylabel('Count')\n",
        "plt.show()"
      ],
      "metadata": {
        "id": "sGoZN5QpraSq"
      },
      "execution_count": null,
      "outputs": []
    },
    {
      "cell_type": "markdown",
      "source": [
        "data snoping bias"
      ],
      "metadata": {
        "id": "KbCe8IUUtOzR"
      }
    },
    {
      "cell_type": "code",
      "source": [
        "import numpy as np"
      ],
      "metadata": {
        "id": "hmhLRoAMt681"
      },
      "execution_count": null,
      "outputs": []
    },
    {
      "cell_type": "code",
      "source": [
        "def split_train_test(df, test_ratio):\n",
        "  np.random.seed(42)\n",
        "\n",
        "  shuffled_indices = np.random.permutation(len(df))\n",
        "\n",
        "  test_set_size = int(len(df) * test_ratio)\n",
        "  test_indices = shuffled_indices[:test_set_size]\n",
        "  train_indices = shuffled_indices[test_set_size:]\n",
        "\n",
        "  return df.iloc[train_indices], df.iloc[test_indices]"
      ],
      "metadata": {
        "id": "RA7KUMOErjep"
      },
      "execution_count": null,
      "outputs": []
    },
    {
      "cell_type": "code",
      "source": [
        "df_train, df_test = split_train_test(df, 0.2)"
      ],
      "metadata": {
        "id": "uoGGrD0Yt2oc"
      },
      "execution_count": null,
      "outputs": []
    },
    {
      "cell_type": "code",
      "source": [
        "df_train.shape, df_test.shape"
      ],
      "metadata": {
        "id": "PNxJN0kBusQ5"
      },
      "execution_count": null,
      "outputs": []
    },
    {
      "cell_type": "code",
      "source": [
        "from sklearn.model_selection import train_test_split\n",
        "\n",
        "train_set, test_set = train_test_split(df, test_size=0.2, random_state=42)"
      ],
      "metadata": {
        "id": "CpVgLcClutyJ"
      },
      "execution_count": null,
      "outputs": []
    },
    {
      "cell_type": "code",
      "source": [
        "train_set.shape, test_set.shape"
      ],
      "metadata": {
        "id": "-rvTrMFUu8K5"
      },
      "execution_count": null,
      "outputs": []
    },
    {
      "cell_type": "code",
      "source": [
        "from sklearn.model_selection import StratifiedShuffleSplit\n",
        "\n",
        "splited = StratifiedShuffleSplit(n_splits=1, test_size=0.2, random_state=42).split(df, df['quality'])\n",
        "\n",
        "for train_index, test_index in splited:\n",
        "  strat_train_set = df.loc[train_index]\n",
        "  strat_test_set = df.loc[test_index]"
      ],
      "metadata": {
        "id": "7x1rbHBQwqOZ"
      },
      "execution_count": null,
      "outputs": []
    },
    {
      "cell_type": "code",
      "source": [
        "strat_train_set.shape, strat_test_set.shape"
      ],
      "metadata": {
        "id": "rmwCmrHOxPGa"
      },
      "execution_count": null,
      "outputs": []
    },
    {
      "cell_type": "code",
      "source": [
        "strata_dist = strat_test_set['quality'].value_counts() / len(strat_test_set)\n",
        "strata_dist"
      ],
      "metadata": {
        "id": "u3fZ_6B9xcS7"
      },
      "execution_count": null,
      "outputs": []
    },
    {
      "cell_type": "code",
      "source": [
        "overall_dist = df['quality'].value_counts() / len(df)\n",
        "overall_dist"
      ],
      "metadata": {
        "id": "3HF1dE_kx77K"
      },
      "execution_count": null,
      "outputs": []
    },
    {
      "cell_type": "code",
      "source": [
        "dist_comparison = pd.DataFrame({'Overall': overall_dist, 'Stratified': strata_dist})\n",
        "dist_comparison['diff(s-o)'] = dist_comparison['Stratified'] - dist_comparison['Overall']\n",
        "dist_comparison['dist(s-o)_pct'] = 100*(dist_comparison['diff(s-o)'] / dist_comparison['Overall'])\n",
        "dist_comparison"
      ],
      "metadata": {
        "id": "D4P3AivqyEqa"
      },
      "execution_count": null,
      "outputs": []
    },
    {
      "cell_type": "code",
      "source": [
        "random_dist = test_set['quality'].value_counts() / len(test_set)\n",
        "random_dist"
      ],
      "metadata": {
        "id": "RKN-6hiQypFi"
      },
      "execution_count": null,
      "outputs": []
    },
    {
      "cell_type": "code",
      "source": [
        "dist_comparison.loc[:, ['diff(s-o)', 'dist(s-o)_pct']]"
      ],
      "metadata": {
        "id": "0CG3lKqXzC6r"
      },
      "execution_count": null,
      "outputs": []
    },
    {
      "cell_type": "code",
      "source": [],
      "metadata": {
        "id": "eOopeFsnzXWh"
      },
      "execution_count": null,
      "outputs": []
    }
  ]
}