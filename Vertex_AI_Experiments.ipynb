{
  "nbformat": 4,
  "nbformat_minor": 0,
  "metadata": {
    "colab": {
      "provenance": [],
      "include_colab_link": true
    },
    "kernelspec": {
      "name": "python3",
      "display_name": "Python 3"
    },
    "language_info": {
      "name": "python"
    }
  },
  "cells": [
    {
      "cell_type": "markdown",
      "metadata": {
        "id": "view-in-github",
        "colab_type": "text"
      },
      "source": [
        "<a href=\"https://colab.research.google.com/github/sam757575/collab/blob/main/Vertex_AI_Experiments.ipynb\" target=\"_parent\"><img src=\"https://colab.research.google.com/assets/colab-badge.svg\" alt=\"Open In Colab\"/></a>"
      ]
    },
    {
      "cell_type": "markdown",
      "source": [
        "## ML Experiment Tracking with Vertex AI\n",
        "\n",
        "Great to have you here\n",
        "\n",
        "* 📖 Article: https://medium.com/google-cloud/machine-learning-experiment-tracking-with-vertex-ai-8406f8d44376\n",
        "* 🎥 Video: https://www.youtube.com/watch?v=a_YXZ5UltkU\n",
        "\n",
        "Your feedback and questions are highly appreciated. <br>You can find me on Twitter [@HeyerSascha](https://twitter.com/HeyerSascha) or connect with me via [LinkedIn](https://www.linkedin.com/in/saschaheyer/). <br>Even better, subscribe to my [YouTube](https://www.youtube.com/channel/UC--Sm3D-rqCUeLXmraypdPQ) channel ❤️."
      ],
      "metadata": {
        "id": "bYp4EUg-g0yk"
      }
    },
    {
      "cell_type": "code",
      "source": [
        "#@title\n",
        "from IPython.display import HTML\n",
        "\n",
        "HTML('<iframe width=\"560\" height=\"315\" src=\"https://www.youtube.com/embed/a_YXZ5UltkU\" frameborder=\"0\" allowfullscreen></iframe>')"
      ],
      "metadata": {
        "colab": {
          "base_uri": "https://localhost:8080/",
          "height": 336
        },
        "cellView": "form",
        "id": "S0m734qkIcrc",
        "outputId": "9fa4c164-97f4-4c9b-ae27-3c224f6672fe"
      },
      "execution_count": null,
      "outputs": [
        {
          "output_type": "execute_result",
          "data": {
            "text/plain": [
              "<IPython.core.display.HTML object>"
            ],
            "text/html": [
              "<iframe width=\"560\" height=\"315\" src=\"https://www.youtube.com/embed/a_YXZ5UltkU\" frameborder=\"0\" allowfullscreen></iframe>"
            ]
          },
          "metadata": {},
          "execution_count": 9
        }
      ]
    },
    {
      "cell_type": "markdown",
      "source": [
        "## Authentication"
      ],
      "metadata": {
        "id": "IFFgQ6RcHbkO"
      }
    },
    {
      "cell_type": "code",
      "execution_count": null,
      "metadata": {
        "id": "WD1SD6D3hWiM"
      },
      "outputs": [],
      "source": [
        "from google.colab import auth\n",
        "auth.authenticate_user()"
      ]
    },
    {
      "cell_type": "markdown",
      "source": [
        "## Dependencies"
      ],
      "metadata": {
        "id": "sKKGvNbsrnuQ"
      }
    },
    {
      "cell_type": "code",
      "source": [
        "! pip install google-cloud-aiplatform==1.18.3"
      ],
      "metadata": {
        "id": "bKvxYxM7hZwr",
        "colab": {
          "base_uri": "https://localhost:8080/"
        },
        "outputId": "237ce599-feec-4d5c-bfc0-3855416d11fa"
      },
      "execution_count": null,
      "outputs": [
        {
          "output_type": "stream",
          "name": "stdout",
          "text": [
            "Looking in indexes: https://pypi.org/simple, https://us-python.pkg.dev/colab-wheels/public/simple/\n",
            "Requirement already satisfied: pip in /usr/local/lib/python3.7/dist-packages (21.1.3)\n",
            "Requirement already satisfied: install in /usr/local/lib/python3.7/dist-packages (1.3.5)\n",
            "Requirement already satisfied: google-cloud-aiplatform==1.18.3 in /usr/local/lib/python3.7/dist-packages (1.18.3)\n",
            "Requirement already satisfied: protobuf!=3.20.0,!=3.20.1,!=4.21.0,!=4.21.1,!=4.21.2,!=4.21.3,!=4.21.4,!=4.21.5,<5.0.0dev,>=3.19.5 in /usr/local/lib/python3.7/dist-packages (from google-cloud-aiplatform==1.18.3) (3.19.6)\n",
            "Requirement already satisfied: google-cloud-storage<3.0.0dev,>=1.32.0 in /usr/local/lib/python3.7/dist-packages (from google-cloud-aiplatform==1.18.3) (2.5.0)\n",
            "Requirement already satisfied: google-cloud-resource-manager<3.0.0dev,>=1.3.3 in /usr/local/lib/python3.7/dist-packages (from google-cloud-aiplatform==1.18.3) (1.6.3)\n",
            "Requirement already satisfied: proto-plus<2.0.0dev,>=1.22.0 in /usr/local/lib/python3.7/dist-packages (from google-cloud-aiplatform==1.18.3) (1.22.1)\n",
            "Requirement already satisfied: google-api-core[grpc]!=2.0.*,!=2.1.*,!=2.2.*,!=2.3.*,!=2.4.*,!=2.5.*,!=2.6.*,!=2.7.*,<3.0.0dev,>=1.32.0 in /usr/local/lib/python3.7/dist-packages (from google-cloud-aiplatform==1.18.3) (2.8.2)\n",
            "Requirement already satisfied: google-cloud-bigquery<3.0.0dev,>=1.15.0 in /usr/local/lib/python3.7/dist-packages (from google-cloud-aiplatform==1.18.3) (2.34.4)\n",
            "Requirement already satisfied: packaging<22.0.0dev,>=14.3 in /usr/local/lib/python3.7/dist-packages (from google-cloud-aiplatform==1.18.3) (21.3)\n",
            "Requirement already satisfied: google-auth<3.0dev,>=1.25.0 in /usr/local/lib/python3.7/dist-packages (from google-api-core[grpc]!=2.0.*,!=2.1.*,!=2.2.*,!=2.3.*,!=2.4.*,!=2.5.*,!=2.6.*,!=2.7.*,<3.0.0dev,>=1.32.0->google-cloud-aiplatform==1.18.3) (2.14.1)\n",
            "Requirement already satisfied: requests<3.0.0dev,>=2.18.0 in /usr/local/lib/python3.7/dist-packages (from google-api-core[grpc]!=2.0.*,!=2.1.*,!=2.2.*,!=2.3.*,!=2.4.*,!=2.5.*,!=2.6.*,!=2.7.*,<3.0.0dev,>=1.32.0->google-cloud-aiplatform==1.18.3) (2.23.0)\n",
            "Requirement already satisfied: googleapis-common-protos<2.0dev,>=1.56.2 in /usr/local/lib/python3.7/dist-packages (from google-api-core[grpc]!=2.0.*,!=2.1.*,!=2.2.*,!=2.3.*,!=2.4.*,!=2.5.*,!=2.6.*,!=2.7.*,<3.0.0dev,>=1.32.0->google-cloud-aiplatform==1.18.3) (1.56.4)\n",
            "Requirement already satisfied: grpcio<2.0dev,>=1.33.2 in /usr/local/lib/python3.7/dist-packages (from google-api-core[grpc]!=2.0.*,!=2.1.*,!=2.2.*,!=2.3.*,!=2.4.*,!=2.5.*,!=2.6.*,!=2.7.*,<3.0.0dev,>=1.32.0->google-cloud-aiplatform==1.18.3) (1.50.0)\n",
            "Requirement already satisfied: grpcio-status<2.0dev,>=1.33.2 in /usr/local/lib/python3.7/dist-packages (from google-api-core[grpc]!=2.0.*,!=2.1.*,!=2.2.*,!=2.3.*,!=2.4.*,!=2.5.*,!=2.6.*,!=2.7.*,<3.0.0dev,>=1.32.0->google-cloud-aiplatform==1.18.3) (1.48.2)\n",
            "Requirement already satisfied: pyasn1-modules>=0.2.1 in /usr/local/lib/python3.7/dist-packages (from google-auth<3.0dev,>=1.25.0->google-api-core[grpc]!=2.0.*,!=2.1.*,!=2.2.*,!=2.3.*,!=2.4.*,!=2.5.*,!=2.6.*,!=2.7.*,<3.0.0dev,>=1.32.0->google-cloud-aiplatform==1.18.3) (0.2.8)\n",
            "Requirement already satisfied: rsa<5,>=3.1.4 in /usr/local/lib/python3.7/dist-packages (from google-auth<3.0dev,>=1.25.0->google-api-core[grpc]!=2.0.*,!=2.1.*,!=2.2.*,!=2.3.*,!=2.4.*,!=2.5.*,!=2.6.*,!=2.7.*,<3.0.0dev,>=1.32.0->google-cloud-aiplatform==1.18.3) (4.9)\n",
            "Requirement already satisfied: cachetools<6.0,>=2.0.0 in /usr/local/lib/python3.7/dist-packages (from google-auth<3.0dev,>=1.25.0->google-api-core[grpc]!=2.0.*,!=2.1.*,!=2.2.*,!=2.3.*,!=2.4.*,!=2.5.*,!=2.6.*,!=2.7.*,<3.0.0dev,>=1.32.0->google-cloud-aiplatform==1.18.3) (5.2.0)\n",
            "Requirement already satisfied: six>=1.9.0 in /usr/local/lib/python3.7/dist-packages (from google-auth<3.0dev,>=1.25.0->google-api-core[grpc]!=2.0.*,!=2.1.*,!=2.2.*,!=2.3.*,!=2.4.*,!=2.5.*,!=2.6.*,!=2.7.*,<3.0.0dev,>=1.32.0->google-cloud-aiplatform==1.18.3) (1.15.0)\n",
            "Requirement already satisfied: python-dateutil<3.0dev,>=2.7.2 in /usr/local/lib/python3.7/dist-packages (from google-cloud-bigquery<3.0.0dev,>=1.15.0->google-cloud-aiplatform==1.18.3) (2.8.2)\n",
            "Requirement already satisfied: google-resumable-media<3.0dev,>=0.6.0 in /usr/local/lib/python3.7/dist-packages (from google-cloud-bigquery<3.0.0dev,>=1.15.0->google-cloud-aiplatform==1.18.3) (2.4.0)\n",
            "Requirement already satisfied: google-cloud-core<3.0.0dev,>=1.4.1 in /usr/local/lib/python3.7/dist-packages (from google-cloud-bigquery<3.0.0dev,>=1.15.0->google-cloud-aiplatform==1.18.3) (2.3.2)\n",
            "Requirement already satisfied: grpc-google-iam-v1<1.0.0dev,>=0.12.4 in /usr/local/lib/python3.7/dist-packages (from google-cloud-resource-manager<3.0.0dev,>=1.3.3->google-cloud-aiplatform==1.18.3) (0.12.4)\n",
            "Requirement already satisfied: google-crc32c<2.0dev,>=1.0 in /usr/local/lib/python3.7/dist-packages (from google-resumable-media<3.0dev,>=0.6.0->google-cloud-bigquery<3.0.0dev,>=1.15.0->google-cloud-aiplatform==1.18.3) (1.5.0)\n",
            "Requirement already satisfied: pyparsing!=3.0.5,>=2.0.2 in /usr/local/lib/python3.7/dist-packages (from packaging<22.0.0dev,>=14.3->google-cloud-aiplatform==1.18.3) (3.0.9)\n",
            "Requirement already satisfied: pyasn1<0.5.0,>=0.4.6 in /usr/local/lib/python3.7/dist-packages (from pyasn1-modules>=0.2.1->google-auth<3.0dev,>=1.25.0->google-api-core[grpc]!=2.0.*,!=2.1.*,!=2.2.*,!=2.3.*,!=2.4.*,!=2.5.*,!=2.6.*,!=2.7.*,<3.0.0dev,>=1.32.0->google-cloud-aiplatform==1.18.3) (0.4.8)\n",
            "Requirement already satisfied: urllib3!=1.25.0,!=1.25.1,<1.26,>=1.21.1 in /usr/local/lib/python3.7/dist-packages (from requests<3.0.0dev,>=2.18.0->google-api-core[grpc]!=2.0.*,!=2.1.*,!=2.2.*,!=2.3.*,!=2.4.*,!=2.5.*,!=2.6.*,!=2.7.*,<3.0.0dev,>=1.32.0->google-cloud-aiplatform==1.18.3) (1.24.3)\n",
            "Requirement already satisfied: certifi>=2017.4.17 in /usr/local/lib/python3.7/dist-packages (from requests<3.0.0dev,>=2.18.0->google-api-core[grpc]!=2.0.*,!=2.1.*,!=2.2.*,!=2.3.*,!=2.4.*,!=2.5.*,!=2.6.*,!=2.7.*,<3.0.0dev,>=1.32.0->google-cloud-aiplatform==1.18.3) (2022.9.24)\n",
            "Requirement already satisfied: idna<3,>=2.5 in /usr/local/lib/python3.7/dist-packages (from requests<3.0.0dev,>=2.18.0->google-api-core[grpc]!=2.0.*,!=2.1.*,!=2.2.*,!=2.3.*,!=2.4.*,!=2.5.*,!=2.6.*,!=2.7.*,<3.0.0dev,>=1.32.0->google-cloud-aiplatform==1.18.3) (2.10)\n",
            "Requirement already satisfied: chardet<4,>=3.0.2 in /usr/local/lib/python3.7/dist-packages (from requests<3.0.0dev,>=2.18.0->google-api-core[grpc]!=2.0.*,!=2.1.*,!=2.2.*,!=2.3.*,!=2.4.*,!=2.5.*,!=2.6.*,!=2.7.*,<3.0.0dev,>=1.32.0->google-cloud-aiplatform==1.18.3) (3.0.4)\n"
          ]
        }
      ]
    },
    {
      "cell_type": "code",
      "source": [
        "import google.cloud.aiplatform as aiplatform\n",
        "# if you get an error just restart the runtime and run again\n",
        "\n",
        "import time"
      ],
      "metadata": {
        "id": "HrDU2vtwhgRu"
      },
      "execution_count": null,
      "outputs": []
    },
    {
      "cell_type": "markdown",
      "source": [
        "## Initialize Experiment"
      ],
      "metadata": {
        "id": "2_9piYNYrzbQ"
      }
    },
    {
      "cell_type": "code",
      "source": [
        "aiplatform.init(\n",
        "       project='sascha-playground-doit',\n",
        "       location='us-central1',\n",
        "       experiment='experiment-demo',\n",
        "    )"
      ],
      "metadata": {
        "id": "Vc_u7OV8hqYc"
      },
      "execution_count": null,
      "outputs": []
    },
    {
      "cell_type": "markdown",
      "source": [
        "## Add TensorBoard Instance to the experiment (required only once)"
      ],
      "metadata": {
        "id": "LpgDmRCtZygP"
      }
    },
    {
      "cell_type": "code",
      "source": [
        "experiment_tensorboard = aiplatform.Tensorboard.create()\n",
        "experiment_tensorboard_name = experiment_tensorboard.gca_resource.name\n",
        "print(\"TensorBoard resource name:\", experiment_tensorboard_name)\n",
        "\n",
        "# sample\n",
        "# experiment_tensorboard='projects/sascha-playground-doit/locations/us-central1/tensorboards/1834521956804722688'"
      ],
      "metadata": {
        "id": "QzQuShGxZ2eJ",
        "colab": {
          "base_uri": "https://localhost:8080/"
        },
        "outputId": "0fea263c-38c7-490d-fde1-135ae6e4ba04"
      },
      "execution_count": null,
      "outputs": [
        {
          "output_type": "stream",
          "name": "stdout",
          "text": [
            "Creating Tensorboard\n"
          ]
        },
        {
          "output_type": "stream",
          "name": "stderr",
          "text": [
            "INFO:google.cloud.aiplatform.tensorboard.tensorboard_resource:Creating Tensorboard\n"
          ]
        },
        {
          "output_type": "stream",
          "name": "stdout",
          "text": [
            "Create Tensorboard backing LRO: projects/234439745674/locations/us-central1/tensorboards/4164571814015533056/operations/912107911000358912\n"
          ]
        },
        {
          "output_type": "stream",
          "name": "stderr",
          "text": [
            "INFO:google.cloud.aiplatform.tensorboard.tensorboard_resource:Create Tensorboard backing LRO: projects/234439745674/locations/us-central1/tensorboards/4164571814015533056/operations/912107911000358912\n"
          ]
        },
        {
          "output_type": "stream",
          "name": "stdout",
          "text": [
            "Tensorboard created. Resource name: projects/234439745674/locations/us-central1/tensorboards/4164571814015533056\n"
          ]
        },
        {
          "output_type": "stream",
          "name": "stderr",
          "text": [
            "INFO:google.cloud.aiplatform.tensorboard.tensorboard_resource:Tensorboard created. Resource name: projects/234439745674/locations/us-central1/tensorboards/4164571814015533056\n"
          ]
        },
        {
          "output_type": "stream",
          "name": "stdout",
          "text": [
            "To use this Tensorboard in another session:\n"
          ]
        },
        {
          "output_type": "stream",
          "name": "stderr",
          "text": [
            "INFO:google.cloud.aiplatform.tensorboard.tensorboard_resource:To use this Tensorboard in another session:\n"
          ]
        },
        {
          "output_type": "stream",
          "name": "stdout",
          "text": [
            "tb = aiplatform.Tensorboard('projects/234439745674/locations/us-central1/tensorboards/4164571814015533056')\n"
          ]
        },
        {
          "output_type": "stream",
          "name": "stderr",
          "text": [
            "INFO:google.cloud.aiplatform.tensorboard.tensorboard_resource:tb = aiplatform.Tensorboard('projects/234439745674/locations/us-central1/tensorboards/4164571814015533056')\n"
          ]
        },
        {
          "output_type": "stream",
          "name": "stdout",
          "text": [
            "TensorBoard resource name: projects/234439745674/locations/us-central1/tensorboards/4164571814015533056\n"
          ]
        }
      ]
    },
    {
      "cell_type": "code",
      "source": [
        "aiplatform.init(\n",
        "       project='sascha-playground-doit',\n",
        "       location='us-central1',\n",
        "       experiment='experiment-demo',\n",
        "       experiment_tensorboard=experiment_tensorboard\n",
        "    )"
      ],
      "metadata": {
        "id": "UFS1ZFGxZ04F"
      },
      "execution_count": null,
      "outputs": []
    },
    {
      "cell_type": "markdown",
      "source": [
        "## Start Run"
      ],
      "metadata": {
        "id": "cr6thywLrpxu"
      }
    },
    {
      "cell_type": "code",
      "source": [
        "aiplatform.start_run(\"run-{}\".format(int(time.time())))"
      ],
      "metadata": {
        "id": "ti8VW9oliBwi",
        "colab": {
          "base_uri": "https://localhost:8080/"
        },
        "outputId": "7a17d8d3-b500-4906-bae6-a4c4e6bc5ee7"
      },
      "execution_count": null,
      "outputs": [
        {
          "output_type": "stream",
          "name": "stdout",
          "text": [
            "Associating projects/234439745674/locations/us-central1/metadataStores/default/contexts/experiment-demo-run-1668692828 to Experiment: experiment-demo\n"
          ]
        },
        {
          "output_type": "stream",
          "name": "stderr",
          "text": [
            "INFO:google.cloud.aiplatform.metadata.experiment_resources:Associating projects/234439745674/locations/us-central1/metadataStores/default/contexts/experiment-demo-run-1668692828 to Experiment: experiment-demo\n"
          ]
        },
        {
          "output_type": "execute_result",
          "data": {
            "text/plain": [
              "<google.cloud.aiplatform.metadata.experiment_run_resource.ExperimentRun at 0x7ff1b0540f90>"
            ]
          },
          "metadata": {},
          "execution_count": 20
        }
      ]
    },
    {
      "cell_type": "markdown",
      "source": [
        "## Log parameter"
      ],
      "metadata": {
        "id": "yzm_b0ahi2un"
      }
    },
    {
      "cell_type": "code",
      "source": [
        "metaparams = {}\n",
        "metaparams[\"units\"] = 64\n",
        "metaparams[\"batch size\"] = 32\n",
        "metaparams[\"note\"] = \"team 5\"\n",
        "aiplatform.log_params(metaparams)"
      ],
      "metadata": {
        "id": "hLflPNtmicu-"
      },
      "execution_count": null,
      "outputs": []
    },
    {
      "cell_type": "markdown",
      "source": [
        "## Log metrics"
      ],
      "metadata": {
        "id": "jhrtCNKSi4gg"
      }
    },
    {
      "cell_type": "markdown",
      "source": [
        "### Summary Metrics"
      ],
      "metadata": {
        "id": "Og5Yo3wJD8Qj"
      }
    },
    {
      "cell_type": "code",
      "source": [
        "metrics = {}\n",
        "metrics[\"f1\"] = 0.84\n",
        "aiplatform.log_metrics(metrics)"
      ],
      "metadata": {
        "id": "rkOf9duSi6Yd"
      },
      "execution_count": null,
      "outputs": []
    },
    {
      "cell_type": "markdown",
      "source": [
        "### Time Series Metrics"
      ],
      "metadata": {
        "id": "ajep58hLWz42"
      }
    },
    {
      "cell_type": "markdown",
      "source": [],
      "metadata": {
        "id": "uZQgTZAJW1Vj"
      }
    },
    {
      "cell_type": "code",
      "source": [
        "aiplatform.log_time_series_metrics({\"mse\": 2500.00, \"rmse\": 50.00})\n",
        "aiplatform.log_time_series_metrics({\"mse\": 2600.00, \"rmse\": 60.00})\n",
        "aiplatform.log_time_series_metrics({\"mse\": 2700.00, \"rmse\": 70.00})"
      ],
      "metadata": {
        "id": "eblwqgf3NGs4"
      },
      "execution_count": null,
      "outputs": []
    },
    {
      "cell_type": "markdown",
      "source": [
        "### Classification Metrics"
      ],
      "metadata": {
        "id": "7NQksqQ0OMDu"
      }
    },
    {
      "cell_type": "code",
      "source": [
        "from sklearn.metrics import confusion_matrix\n",
        "\n",
        "labels = [\"ant\", \"bird\", \"cat\"]\n",
        "\n",
        "y_true = [\"cat\", \"ant\", \"cat\", \"cat\", \"ant\", \"bird\"]\n",
        "y_pred = [\"ant\", \"ant\", \"cat\", \"cat\", \"ant\", \"cat\"]\n",
        "\n",
        "\n",
        "classification_metrics = {\n",
        "        \"matrix\": confusion_matrix(y_true, y_pred, labels=labels).tolist(),\n",
        "        \"labels\": labels,\n",
        "    }\n",
        "\n",
        "print(classification_metrics)\n",
        "\n",
        "aiplatform.log_classification_metrics(\n",
        "        labels=classification_metrics[\"labels\"],\n",
        "        matrix=classification_metrics[\"matrix\"],\n",
        "        display_name=\"my-confusion-matrix\",\n",
        "    )"
      ],
      "metadata": {
        "id": "4941ciroOR-I",
        "colab": {
          "base_uri": "https://localhost:8080/"
        },
        "outputId": "176d5736-9f89-41dd-f847-a32c14c8c197"
      },
      "execution_count": null,
      "outputs": [
        {
          "output_type": "stream",
          "name": "stdout",
          "text": [
            "{'matrix': [[2, 0, 0], [0, 0, 1], [1, 0, 2]], 'labels': ['ant', 'bird', 'cat']}\n"
          ]
        }
      ]
    },
    {
      "cell_type": "markdown",
      "source": [
        "## Artifacts"
      ],
      "metadata": {
        "id": "gaxnVW9nHuLO"
      }
    },
    {
      "cell_type": "code",
      "source": [
        "training_data_artifact = aiplatform.Artifact.create(\n",
        "        schema_title='system.Dataset',\n",
        "        uri='gs://doit-vertex-demo/higgs/training.csv',\n",
        "        display_name='data')\n",
        "\n",
        "with aiplatform.start_execution(\n",
        "       schema_title=\"system.ContainerExecution\",\n",
        "       display_name='training'\n",
        "    ) as execution:\n",
        "\n",
        "        execution.assign_input_artifacts([training_data_artifact])\n",
        "\n",
        "        # do the training and store the model as output artifact\n",
        "\n",
        "        model_artifact = aiplatform.Artifact.create(\n",
        "        schema_title='system.Model',\n",
        "        uri='gs://doit-vertex-demo/higgs/model',\n",
        "        display_name='model')\n",
        "\n",
        "        execution.assign_output_artifacts([model_artifact])"
      ],
      "metadata": {
        "id": "nAx6U0RrISMD"
      },
      "execution_count": null,
      "outputs": []
    },
    {
      "cell_type": "markdown",
      "source": [
        "## End experiment run"
      ],
      "metadata": {
        "id": "VyH0EYjcOP1z"
      }
    },
    {
      "cell_type": "code",
      "source": [
        "aiplatform.end_run()"
      ],
      "metadata": {
        "id": "IFYl-6nHhyjh"
      },
      "execution_count": null,
      "outputs": []
    },
    {
      "cell_type": "markdown",
      "source": [
        "## Compare expeirment and runs (you can also compare across experiments)"
      ],
      "metadata": {
        "id": "LPnxx2hOx4OD"
      }
    },
    {
      "cell_type": "code",
      "source": [
        "experiment_df = aiplatform.get_experiment_df()\n",
        "experiment_df = experiment_df[experiment_df.experiment_name == 'experiment-demo']\n",
        "experiment_df"
      ],
      "metadata": {
        "id": "Z2M6rMjtx5eT",
        "colab": {
          "base_uri": "https://localhost:8080/",
          "height": 179
        },
        "outputId": "2619cc23-c7c1-49f3-b10f-d230eec3e7dd"
      },
      "execution_count": null,
      "outputs": [
        {
          "output_type": "execute_result",
          "data": {
            "text/plain": [
              "   experiment_name        run_name              run_type    state  \\\n",
              "0  experiment-demo  run-1668692828  system.ExperimentRun  RUNNING   \n",
              "\n",
              "   param.units param.note  param.batch size  metric.f1  \\\n",
              "0         64.0     team 5              32.0       0.84   \n",
              "\n",
              "   time_series_metric.mse  time_series_metric.rmse  \n",
              "0                  2700.0                     70.0  "
            ],
            "text/html": [
              "\n",
              "  <div id=\"df-7bd1a3cb-0aef-476d-9bf4-490e90d03e8b\">\n",
              "    <div class=\"colab-df-container\">\n",
              "      <div>\n",
              "<style scoped>\n",
              "    .dataframe tbody tr th:only-of-type {\n",
              "        vertical-align: middle;\n",
              "    }\n",
              "\n",
              "    .dataframe tbody tr th {\n",
              "        vertical-align: top;\n",
              "    }\n",
              "\n",
              "    .dataframe thead th {\n",
              "        text-align: right;\n",
              "    }\n",
              "</style>\n",
              "<table border=\"1\" class=\"dataframe\">\n",
              "  <thead>\n",
              "    <tr style=\"text-align: right;\">\n",
              "      <th></th>\n",
              "      <th>experiment_name</th>\n",
              "      <th>run_name</th>\n",
              "      <th>run_type</th>\n",
              "      <th>state</th>\n",
              "      <th>param.units</th>\n",
              "      <th>param.note</th>\n",
              "      <th>param.batch size</th>\n",
              "      <th>metric.f1</th>\n",
              "      <th>time_series_metric.mse</th>\n",
              "      <th>time_series_metric.rmse</th>\n",
              "    </tr>\n",
              "  </thead>\n",
              "  <tbody>\n",
              "    <tr>\n",
              "      <th>0</th>\n",
              "      <td>experiment-demo</td>\n",
              "      <td>run-1668692828</td>\n",
              "      <td>system.ExperimentRun</td>\n",
              "      <td>RUNNING</td>\n",
              "      <td>64.0</td>\n",
              "      <td>team 5</td>\n",
              "      <td>32.0</td>\n",
              "      <td>0.84</td>\n",
              "      <td>2700.0</td>\n",
              "      <td>70.0</td>\n",
              "    </tr>\n",
              "  </tbody>\n",
              "</table>\n",
              "</div>\n",
              "      <button class=\"colab-df-convert\" onclick=\"convertToInteractive('df-7bd1a3cb-0aef-476d-9bf4-490e90d03e8b')\"\n",
              "              title=\"Convert this dataframe to an interactive table.\"\n",
              "              style=\"display:none;\">\n",
              "        \n",
              "  <svg xmlns=\"http://www.w3.org/2000/svg\" height=\"24px\"viewBox=\"0 0 24 24\"\n",
              "       width=\"24px\">\n",
              "    <path d=\"M0 0h24v24H0V0z\" fill=\"none\"/>\n",
              "    <path d=\"M18.56 5.44l.94 2.06.94-2.06 2.06-.94-2.06-.94-.94-2.06-.94 2.06-2.06.94zm-11 1L8.5 8.5l.94-2.06 2.06-.94-2.06-.94L8.5 2.5l-.94 2.06-2.06.94zm10 10l.94 2.06.94-2.06 2.06-.94-2.06-.94-.94-2.06-.94 2.06-2.06.94z\"/><path d=\"M17.41 7.96l-1.37-1.37c-.4-.4-.92-.59-1.43-.59-.52 0-1.04.2-1.43.59L10.3 9.45l-7.72 7.72c-.78.78-.78 2.05 0 2.83L4 21.41c.39.39.9.59 1.41.59.51 0 1.02-.2 1.41-.59l7.78-7.78 2.81-2.81c.8-.78.8-2.07 0-2.86zM5.41 20L4 18.59l7.72-7.72 1.47 1.35L5.41 20z\"/>\n",
              "  </svg>\n",
              "      </button>\n",
              "      \n",
              "  <style>\n",
              "    .colab-df-container {\n",
              "      display:flex;\n",
              "      flex-wrap:wrap;\n",
              "      gap: 12px;\n",
              "    }\n",
              "\n",
              "    .colab-df-convert {\n",
              "      background-color: #E8F0FE;\n",
              "      border: none;\n",
              "      border-radius: 50%;\n",
              "      cursor: pointer;\n",
              "      display: none;\n",
              "      fill: #1967D2;\n",
              "      height: 32px;\n",
              "      padding: 0 0 0 0;\n",
              "      width: 32px;\n",
              "    }\n",
              "\n",
              "    .colab-df-convert:hover {\n",
              "      background-color: #E2EBFA;\n",
              "      box-shadow: 0px 1px 2px rgba(60, 64, 67, 0.3), 0px 1px 3px 1px rgba(60, 64, 67, 0.15);\n",
              "      fill: #174EA6;\n",
              "    }\n",
              "\n",
              "    [theme=dark] .colab-df-convert {\n",
              "      background-color: #3B4455;\n",
              "      fill: #D2E3FC;\n",
              "    }\n",
              "\n",
              "    [theme=dark] .colab-df-convert:hover {\n",
              "      background-color: #434B5C;\n",
              "      box-shadow: 0px 1px 3px 1px rgba(0, 0, 0, 0.15);\n",
              "      filter: drop-shadow(0px 1px 2px rgba(0, 0, 0, 0.3));\n",
              "      fill: #FFFFFF;\n",
              "    }\n",
              "  </style>\n",
              "\n",
              "      <script>\n",
              "        const buttonEl =\n",
              "          document.querySelector('#df-7bd1a3cb-0aef-476d-9bf4-490e90d03e8b button.colab-df-convert');\n",
              "        buttonEl.style.display =\n",
              "          google.colab.kernel.accessAllowed ? 'block' : 'none';\n",
              "\n",
              "        async function convertToInteractive(key) {\n",
              "          const element = document.querySelector('#df-7bd1a3cb-0aef-476d-9bf4-490e90d03e8b');\n",
              "          const dataTable =\n",
              "            await google.colab.kernel.invokeFunction('convertToInteractive',\n",
              "                                                     [key], {});\n",
              "          if (!dataTable) return;\n",
              "\n",
              "          const docLinkHtml = 'Like what you see? Visit the ' +\n",
              "            '<a target=\"_blank\" href=https://colab.research.google.com/notebooks/data_table.ipynb>data table notebook</a>'\n",
              "            + ' to learn more about interactive tables.';\n",
              "          element.innerHTML = '';\n",
              "          dataTable['output_type'] = 'display_data';\n",
              "          await google.colab.output.renderOutput(dataTable, element);\n",
              "          const docLink = document.createElement('div');\n",
              "          docLink.innerHTML = docLinkHtml;\n",
              "          element.appendChild(docLink);\n",
              "        }\n",
              "      </script>\n",
              "    </div>\n",
              "  </div>\n",
              "  "
            ]
          },
          "metadata": {},
          "execution_count": 27
        }
      ]
    },
    {
      "cell_type": "markdown",
      "source": [
        "## Get artifcats for experiment run"
      ],
      "metadata": {
        "id": "IBr7fmFdjVLs"
      }
    },
    {
      "cell_type": "code",
      "source": [
        "experiment_run = aiplatform.ExperimentRun(\n",
        "        run_name='run-1668692828',\n",
        "        experiment='experiment-demo',\n",
        ")\n",
        "\n",
        "print(experiment_run.get_artifacts())\n",
        "print(experiment_run.get_metrics())\n",
        "print(experiment_run.get_params())\n",
        "print(experiment_run.get_time_series_data_frame())\n",
        "print(experiment_run.get_classification_metrics())"
      ],
      "metadata": {
        "id": "Pjw4vtiZjaX2",
        "colab": {
          "base_uri": "https://localhost:8080/"
        },
        "outputId": "1f1ffc30-3068-4d27-c4fe-50e3adcfcb2b"
      },
      "execution_count": null,
      "outputs": [
        {
          "output_type": "stream",
          "name": "stdout",
          "text": [
            "[<google.cloud.aiplatform.metadata.artifact.Artifact object at 0x7ff19d87f850> \n",
            "resource name: projects/234439745674/locations/us-central1/metadataStores/default/artifacts/ffdc36ec-19e1-432e-9114-b335e3f94bd7\n",
            "uri: gs://doit-vertex-demo/higgs/model\n",
            "schema_title:system.Model, <google.cloud.aiplatform.metadata.artifact.Artifact object at 0x7ff19d77b4d0> \n",
            "resource name: projects/234439745674/locations/us-central1/metadataStores/default/artifacts/49e0a4a7-b5af-41e7-ab7a-767928ee6059\n",
            "uri: gs://doit-vertex-demo/higgs/training.csv\n",
            "schema_title:system.Dataset, <google.cloud.aiplatform.metadata.artifact.Artifact object at 0x7ff19d7758d0> \n",
            "resource name: projects/234439745674/locations/us-central1/metadataStores/default/artifacts/a1113415-c4ba-4dec-93b1-82dfbf0bfad9\n",
            "uri: \n",
            "schema_title:google.ClassificationMetrics, <google.cloud.aiplatform.metadata.artifact.Artifact object at 0x7ff19d836710> \n",
            "resource name: projects/234439745674/locations/us-central1/metadataStores/default/artifacts/experiment-demo-run-1668692828-tb-run\n",
            "uri: https://us-central1-aiplatform.googleapis.com/v1/projects/234439745674/locations/us-central1/tensorboards/4164571814015533056/experiments/experiment-demo/runs/run-1668692828\n",
            "schema_title:google.VertexTensorboardRun]\n",
            "{'f1': 0.84}\n",
            "{'units': 64.0, 'batch size': 32.0, 'note': 'team 5'}\n",
            "   step                        wall_time     mse  rmse\n",
            "0     1 2022-11-17 13:47:36.732000+00:00  2500.0  50.0\n",
            "1     2 2022-11-17 13:47:36.924000+00:00  2600.0  60.0\n",
            "2     3 2022-11-17 13:47:37.122000+00:00  2700.0  70.0\n",
            "3     4 2022-11-17 13:49:45.595000+00:00  2500.0  50.0\n",
            "4     5 2022-11-17 13:49:45.788000+00:00  2600.0  60.0\n",
            "5     6 2022-11-17 13:49:45.979000+00:00  2700.0  70.0\n",
            "[{'id': 'a1113415-c4ba-4dec-93b1-82dfbf0bfad9', 'display_name': 'my-confusion-matrix', 'labels': ['ant', 'bird', 'cat'], 'matrix': [[2.0, 0.0, 0.0], [0.0, 0.0, 1.0], [1.0, 0.0, 2.0]]}]\n"
          ]
        }
      ]
    },
    {
      "cell_type": "code",
      "source": [],
      "metadata": {
        "id": "rflAXJbH4OVi"
      },
      "execution_count": null,
      "outputs": []
    }
  ]
}